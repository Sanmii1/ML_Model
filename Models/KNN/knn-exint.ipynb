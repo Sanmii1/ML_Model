{
 "cells": [
  {
   "cell_type": "code",
   "execution_count": null,
   "id": "08ca84a0",
   "metadata": {},
   "outputs": [],
   "source": [
    "import numpy as np  \n",
    "import pandas as pd\n",
    "from sklearn.model_selection import train_test_split\n",
    "from sklearn.preprocessing import OneHotEncoder\n",
    "from sklearn.neighbors import KNeighborsClassifier\n",
    "from sklearn.metrics import confusion_matrix\n",
    "from sklearn.metrics import classification_report  \n",
    "\n",
    "data = pd.read_csv(\"../../Datasets/exvsint/personality_dataset.csv\")\n",
    "ohe = OneHotEncoder(sparse_output=False).set_output(transform=\"pandas\")\n",
    "ohetranform = ohe.fit_transform(data[[\"Stage_fear\",\"Personality\",\"Drained_after_socializing\"]])\n",
    "data = pd.concat([data, ohetranform],axis=1).drop(columns=[\"Stage_fear\",\"Drained_after_socializing\",\"Personality\",\"Personality_Extrovert\"])"
   ]
  },
  {
   "cell_type": "code",
   "execution_count": 127,
   "id": "a15c82f3",
   "metadata": {},
   "outputs": [
    {
     "name": "stderr",
     "output_type": "stream",
     "text": [
      "d:\\Code\\Python\\MachineLearning\\env\\Lib\\site-packages\\sklearn\\neighbors\\_classification.py:239: DataConversionWarning: A column-vector y was passed when a 1d array was expected. Please change the shape of y to (n_samples,), for example using ravel().\n",
      "  return self._fit(X, y)\n"
     ]
    },
    {
     "data": {
      "text/plain": [
       "0.9384615384615385"
      ]
     },
     "execution_count": 127,
     "metadata": {},
     "output_type": "execute_result"
    }
   ],
   "source": [
    "Y = data[[\"Personality_Introvert\"]]\n",
    "X = data.drop(columns=[\"Personality_Introvert\"])\n",
    "\n",
    "X_Train,X_Test,Y_Train,Y_Test = train_test_split(X,Y,random_state=12,train_size=0.7)\n",
    "X_Test,X_Valid,Y_Test,Y_Valid = train_test_split(X_Test,Y_Test,random_state=12,train_size=0.15)\n",
    "\n",
    "knn = KNeighborsClassifier(n_neighbors=10)\n",
    "knn.fit(X_Train,Y_Train)\n",
    "y_valid_pred = knn.predict(X_Valid)\n",
    "cm = confusion_matrix(y_valid_pred,Y_Valid)\n",
    "Y_Valid = np.array(Y_Valid).reshape(-1,1)\n",
    "knn.score(X_Valid,Y_Valid)\n",
    "\n",
    "y_test_predict = knn.predict(X_Test)\n",
    "cm2 = confusion_matrix(y_test_predict,Y_Test)\n",
    "knn.score(X_Test,Y_Test)"
   ]
  }
 ],
 "metadata": {
  "kernelspec": {
   "display_name": "env",
   "language": "python",
   "name": "python3"
  },
  "language_info": {
   "codemirror_mode": {
    "name": "ipython",
    "version": 3
   },
   "file_extension": ".py",
   "mimetype": "text/x-python",
   "name": "python",
   "nbconvert_exporter": "python",
   "pygments_lexer": "ipython3",
   "version": "3.13.3"
  }
 },
 "nbformat": 4,
 "nbformat_minor": 5
}
