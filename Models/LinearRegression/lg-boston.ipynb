{
 "cells": [
  {
   "cell_type": "code",
   "execution_count": null,
   "id": "b619ad6d",
   "metadata": {},
   "outputs": [
    {
     "name": "stdout",
     "output_type": "stream",
     "text": [
      "R2: 0.6374794873372915\n",
      "R2: 0.6374794873372915\n"
     ]
    }
   ],
   "source": [
    "import pandas as pd\n",
    "import numpy as np\n",
    "import matplotlib.pyplot as plt\n",
    "from sklearn.model_selection import train_test_split\n",
    "from sklearn.linear_model import LinearRegression\n",
    "from sklearn.metrics import r2_score\n",
    "from sklearn.preprocessing import StandardScaler\n",
    "\n",
    "\n",
    "df = pd.read_csv(\"../../Datasets/California/california-house.csv\")\n",
    "df = df.drop(\"ocean_proximity\", axis=1)\n",
    "\n",
    "X = df.iloc[:,0:8]\n",
    "standarization = StandardScaler()\n",
    "X = standarization.fit_transform(X)\n",
    "\n",
    "y = df[\"median_house_value\"]\n",
    "\n",
    "X_train, X_temp, y_train, y_temp = train_test_split(X, y, random_state=42)\n",
    "X_valid, X_test, y_valid, y_test = train_test_split(X, y, random_state=42)\n",
    "\n",
    "model = LinearRegression()\n",
    "model.fit(X_train,y_train)\n",
    "\n",
    "y_pred = model.predict(X_valid)\n",
    "y_pred2 = model.predict(X_train)\n",
    "\n",
    "print(\"R2:\", r2_score(y_valid, y_pred))\n",
    "print(\"R2:\", r2_score(y_train, y_pred2))\n"
   ]
  },
  {
   "cell_type": "code",
   "execution_count": null,
   "id": "51c78fca",
   "metadata": {},
   "outputs": [],
   "source": [
    "\n",
    "\n",
    "\n",
    "df = pd.read_csv(\"../../Datasets/California/california-house.csv\")\n",
    "df = df.drop(\"ocean_proximity\", axis=1)\n",
    "\n",
    "X = df.iloc[:,0:8]\n",
    "standarization = StandardScaler()\n",
    "X = standarization.fit_transform(X)\n",
    "\n",
    "y = df[\"median_house_value\"]\n",
    "\n",
    "X_train, X_temp, y_train, y_temp = train_test_split(X, y, random_state=42)\n",
    "X_valid, X_test, y_valid, y_test = train_test_split(X, y, random_state=42)\n",
    "\n",
    "model = LinearRegression()\n",
    "model.fit(X_train,y_train)\n",
    "\n",
    "y_pred = model.predict(X_valid)\n",
    "y_pred2 = model.predict(X_train)\n",
    "\n",
    "print(\"R2:\", r2_score(y_valid, y_pred))\n",
    "print(\"R2:\", r2_score(y_train, y_pred2))\n"
   ]
  }
 ],
 "metadata": {
  "kernelspec": {
   "display_name": "env",
   "language": "python",
   "name": "python3"
  },
  "language_info": {
   "codemirror_mode": {
    "name": "ipython",
    "version": 3
   },
   "file_extension": ".py",
   "mimetype": "text/x-python",
   "name": "python",
   "nbconvert_exporter": "python",
   "pygments_lexer": "ipython3",
   "version": "3.13.3"
  }
 },
 "nbformat": 4,
 "nbformat_minor": 5
}
