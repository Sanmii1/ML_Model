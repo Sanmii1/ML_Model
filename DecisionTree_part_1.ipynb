{
 "cells": [
  {
   "cell_type": "code",
   "execution_count": 15,
   "metadata": {},
   "outputs": [
    {
     "name": "stdout",
     "output_type": "stream",
     "text": [
      "You are 158.4\n"
     ]
    }
   ],
   "source": [
    "weightUser = int(input(\"Weight:\"))\n",
    "optionUser = str(input(\"(L)bs or (K)g:\"))\n",
    "\n",
    "if optionUser.lower() == \"l\" :\n",
    "    convertWeight = weightUser * 0.45\n",
    "elif optionUser.lower() == \"k\" :\n",
    "    convertWeight = weightUser * 2.2\n",
    "else :\n",
    "    print(\"Not in option\")\n",
    "print(f'You are {convertWeight}')    \n"
   ]
  },
  {
   "cell_type": "code",
   "execution_count": null,
   "metadata": {},
   "outputs": [],
   "source": []
  }
 ],
 "metadata": {
  "kernelspec": {
   "display_name": "Env",
   "language": "python",
   "name": "python3"
  },
  "language_info": {
   "codemirror_mode": {
    "name": "ipython",
    "version": 3
   },
   "file_extension": ".py",
   "mimetype": "text/x-python",
   "name": "python",
   "nbconvert_exporter": "python",
   "pygments_lexer": "ipython3",
   "version": "3.11.9"
  },
  "orig_nbformat": 4,
  "vscode": {
   "interpreter": {
    "hash": "51c0729686ce2c5a87b5b1b67b8fd6d7c80aaacc136d38e6e1af506260845a96"
   }
  }
 },
 "nbformat": 4,
 "nbformat_minor": 2
}
